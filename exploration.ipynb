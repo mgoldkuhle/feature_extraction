{
 "cells": [
  {
   "cell_type": "markdown",
   "metadata": {},
   "source": [
    "# Exploring brughoek followup data"
   ]
  },
  {
   "cell_type": "code",
   "execution_count": 1,
   "metadata": {},
   "outputs": [],
   "source": [
    "import pandas as pd\n",
    "from scipy.stats import ttest_rel\n",
    "import matplotlib.pyplot as plt\n",
    "import seaborn as sns\n",
    "\n",
    "# extracted features\n",
    "df = pd.read_csv('C:/Users/mjgoldkuhle/ownCloud/LUMC/data/selected_features/extracted_features.csv')\n",
    "\n",
    "# failed extractions\n",
    "df_failed = pd.read_csv('C:/Users/mjgoldkuhle/ownCloud/LUMC/data/selected_features/failed_extractions.csv')"
   ]
  }
 ],
 "metadata": {
  "kernelspec": {
   "display_name": "exploration",
   "language": "python",
   "name": "python3"
  },
  "language_info": {
   "codemirror_mode": {
    "name": "ipython",
    "version": 3
   },
   "file_extension": ".py",
   "mimetype": "text/x-python",
   "name": "python",
   "nbconvert_exporter": "python",
   "pygments_lexer": "ipython3",
   "version": "3.10.11"
  }
 },
 "nbformat": 4,
 "nbformat_minor": 2
}
